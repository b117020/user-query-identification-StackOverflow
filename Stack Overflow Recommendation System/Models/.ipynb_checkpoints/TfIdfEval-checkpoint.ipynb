{
 "cells": [
  {
   "cell_type": "code",
   "execution_count": 1,
   "metadata": {
    "collapsed": true
   },
   "outputs": [],
   "source": [
    "from pattern.vector import Document, Model, TFIDF, TF, LEMMA, PORTER, COSINE, KMEANS, HIERARCHICAL\n"
   ]
  },
  {
   "cell_type": "code",
   "execution_count": 70,
   "metadata": {
    "collapsed": false
   },
   "outputs": [
    {
     "name": "stdout",
     "output_type": "stream",
     "text": [
      "500\n",
      "2048\n"
     ]
    }
   ],
   "source": [
    "import sqlite3\n",
    "conn = sqlite3.connect(\"/Users/arpita/Downloads/android.stackexchange.com/android.db\")\n",
    "cursor = conn.cursor()\n",
    "cursor.execute(\"select Id,Tags,title_tokens,Title,Body from Questions where AnswerCount!=0\")\n",
    "data = cursor.fetchall()\n",
    "\n",
    "count = 0\n",
    "\n",
    "cursor.execute(\"select Id,Tags,title_tokens,Title,Body from Questions where  id IN (Select PostId from PostLinks where PostId in (Select id from Questions) and RelatedPostId in (Select Id from Questions) and LinkTypeId = 3) limit 500\")\n",
    "IdData = cursor.fetchall()\n",
    "print(len(IdData))\n",
    "\n",
    "cursor.execute(\"select PostId,RelatedPostId from PostLinks where LinkTypeid=3 and PostId IN (Select id from Questions) and RelatedPostId in (Select Id from Questions)\")\n",
    "related = cursor.fetchall()\n",
    "print len(related)\n",
    "related_dict = {}\n",
    "\n",
    "conn.close()\n"
   ]
  },
  {
   "cell_type": "code",
   "execution_count": 9,
   "metadata": {
    "collapsed": true
   },
   "outputs": [],
   "source": [
    "import re\n",
    "\n",
    "def buildDataDictionary(data):\n",
    "    data_dict = {}\n",
    "    compare_dict = {}\n",
    "    documents = {}\n",
    "    for record in data:\n",
    "        id = record[0]\n",
    "        tags = record[1].encode('ascii', 'ignore').decode('ascii')\n",
    "\n",
    "        title = record[2]\n",
    "        title = title.encode('ascii', 'ignore').decode('ascii')\n",
    "        data_dict[id] = record[0:]\n",
    "        compare_dict[id] = set(str(tags).split(',')).union(str(title).split(','))\n",
    "\n",
    "        documents[id] = strip_html(str(record[4].encode('ascii', 'ignore').decode('ascii')))\n",
    "\n",
    "    return data_dict, compare_dict,documents\n",
    "\n",
    "def strip_html(text):\n",
    "    tag_re = re.compile(r'<[^>]+>')\n",
    "    return tag_re.sub('', text)\n"
   ]
  },
  {
   "cell_type": "code",
   "execution_count": 11,
   "metadata": {
    "collapsed": true
   },
   "outputs": [],
   "source": [
    "#diff tfidf\n",
    "def make_pattern_docs(documents):\n",
    "    \"\"\" texts is a dictionary! key is the name of text or filename \"\"\"\n",
    "    from pattern.vector import Document\n",
    "    docs = []\n",
    "\n",
    "    # Create a pattern.vector Document object for each article, and lemmatize as it goes in\n",
    "    for key, val in documents.iteritems():\n",
    "        docs.append(Document(val, name=key, stemmer=LEMMA))\n",
    "    return docs"
   ]
  },
  {
   "cell_type": "code",
   "execution_count": 13,
   "metadata": {
    "collapsed": false
   },
   "outputs": [
    {
     "name": "stdout",
     "output_type": "stream",
     "text": [
      "built related dictionary\n",
      "built data dictionary\n",
      "[(0.08108108108108113, u'ap'), (0.08108108108108113, u'connect'), (0.08108108108108113, u'disabled'), (0.08108108108108113, u'entry'), (0.054054054054054085, u'marked'), (0.054054054054054085, u'sleep'), (0.054054054054054085, u'wireles'), (0.027027027027027042, u'attempt'), (0.027027027027027042, u'click'), (0.027027027027027042, u'connected')]\n"
     ]
    }
   ],
   "source": [
    "for record in related:\n",
    "    id = record[0]\n",
    "    present = []\n",
    "    present.append(record[1])\n",
    "    if id in related_dict.keys():\n",
    "        present.append(related_dict[id])\n",
    "    related_dict[id] = present\n",
    "\n",
    "print \"built related dictionary\"\n",
    "\n",
    "data_dict,compare_dict,documents = buildDataDictionary(data)\n",
    "print \"built data dictionary\"\n",
    "    \n",
    "docs = make_pattern_docs(documents)\n",
    "print docs[2].keywords()\n"
   ]
  },
  {
   "cell_type": "code",
   "execution_count": 31,
   "metadata": {
    "collapsed": true
   },
   "outputs": [],
   "source": [
    "mtfidf = Model(documents=docs, weight=TFIDF)\n"
   ]
  },
  {
   "cell_type": "code",
   "execution_count": 36,
   "metadata": {
    "collapsed": true
   },
   "outputs": [],
   "source": [
    "from nltk import word_tokenize\n",
    "from nltk.corpus import stopwords\n",
    "import string\n",
    "def tokenize_string(question):\n",
    "    stop = stopwords.words('english')\n",
    "    newTitle = []\n",
    "\n",
    "    list_words = word_tokenize(question.replace(\"\\\"\",'').lower())\n",
    "    for i in list_words:\n",
    "        if i not in stop and i not in string.punctuation:\n",
    "            newTitle.append(i)\n",
    "\n",
    "    return newTitle\n"
   ]
  },
  {
   "cell_type": "code",
   "execution_count": null,
   "metadata": {
    "collapsed": false
   },
   "outputs": [],
   "source": [
    "import sys\n",
    "sys.path.append('/Users/arpita/PycharmProjects/DataScienceProject/Evaluation')\n",
    "import Evaluation\n",
    "count = 0\n",
    "for dt in IdData:\n",
    "    body = dt[4].encode('ascii', 'ignore').decode('ascii')\n",
    "    body = strip_html(body)\n",
    "    listBody = tokenize_string(body)\n",
    "    result = mtfidf.search(listBody)\n",
    "    res_list = []\n",
    "\n",
    "    for res in result:\n",
    "        res_list.append(res[1].name)\n",
    "\n",
    "    if dt[0] in related_dict.keys():\n",
    "        if Evaluation.evaluate(res_list,related_dict[dt[0]]):\n",
    "            count = count+1\n",
    "            print count\n",
    "print len(IdData),count"
   ]
  },
  {
   "cell_type": "code",
   "execution_count": 67,
   "metadata": {
    "collapsed": false
   },
   "outputs": [
    {
     "name": "stdout",
     "output_type": "stream",
     "text": [
      "100\n"
     ]
    }
   ],
   "source": [
    "print len(IdData)"
   ]
  },
  {
   "cell_type": "code",
   "execution_count": null,
   "metadata": {
    "collapsed": true
   },
   "outputs": [],
   "source": []
  }
 ],
 "metadata": {
  "kernelspec": {
   "display_name": "Python 2",
   "language": "python",
   "name": "python2"
  },
  "language_info": {
   "codemirror_mode": {
    "name": "ipython",
    "version": 2
   },
   "file_extension": ".py",
   "mimetype": "text/x-python",
   "name": "python",
   "nbconvert_exporter": "python",
   "pygments_lexer": "ipython2",
   "version": "2.7.10"
  }
 },
 "nbformat": 4,
 "nbformat_minor": 0
}
